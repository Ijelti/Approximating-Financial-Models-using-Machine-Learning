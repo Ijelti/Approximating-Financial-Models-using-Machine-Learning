{
 "cells": [
  {
   "cell_type": "markdown",
   "metadata": {},
   "source": [
    "# Importation and data preparation"
   ]
  },
  {
   "cell_type": "markdown",
   "metadata": {},
   "source": [
    "- Importation"
   ]
  },
  {
   "cell_type": "code",
   "execution_count": 12,
   "metadata": {},
   "outputs": [],
   "source": [
    "import numpy as np\n",
    "import pandas as pd\n",
    "import matplotlib.pyplot as plt\n",
    "from sklearn.model_selection import train_test_split\n",
    "from sklearn.metrics import mean_squared_error\n",
    "from sklearn.model_selection import GridSearchCV\n",
    "from sklearn.preprocessing import StandardScaler\n",
    "from sklearn.model_selection import cross_val_score\n",
    "from sklearn.model_selection import KFold\n",
    "from sklearn.pipeline import Pipeline\n",
    "import math\n",
    "import sklearn \n",
    "from keras.models import Sequential\n",
    "from keras import optimizers\n",
    "import keras.backend as K\n",
    "from keras.wrappers.scikit_learn import KerasRegressor\n",
    "from keras.layers import Dense"
   ]
  },
  {
   "cell_type": "markdown",
   "metadata": {},
   "source": [
    "STEP 1 : Importing and Feature Scaling\n",
    "\n",
    "- Our dataset is not yet a scaled value, so we will scale our data using StandardScaler\n",
    "- We will split the data into training and testing sets. We train the model with 70% of the samples and test with the remaining 20%"
   ]
  },
  {
   "cell_type": "code",
   "execution_count": 2,
   "metadata": {},
   "outputs": [],
   "source": [
    "# import data\n",
    "df=pd.read_csv(\"C:/Users/Dell 7470/Desktop/test_xcelerit/data_xcelerit.csv\")\n",
    "#data\n",
    "x = df.drop('vola',axis=1)\n",
    "y = df.vola\n",
    "#spliting data\n",
    "x_train, x_test, y_train, y_test = train_test_split(x, y, test_size=0.3)"
   ]
  },
  {
   "cell_type": "code",
   "execution_count": 3,
   "metadata": {},
   "outputs": [],
   "source": [
    "# scalling train and test data set\n",
    "scaler = StandardScaler().fit(x_train)\n",
    "x_train = scaler.transform(x_train)\n",
    "x_test = scaler.transform(x_test)"
   ]
  },
  {
   "cell_type": "markdown",
   "metadata": {},
   "source": [
    "# Building NN model"
   ]
  },
  {
   "cell_type": "markdown",
   "metadata": {},
   "source": [
    "- We will create a baseline neural network model using Keras and sklearn\n",
    "   - baseline_model() is a function to create our model. It is a sequential model that has two fully connected hidden layers. The first is with the same number of neurons as input attributes (7). The second is with 6 neurones and with relu activation. \n",
    "   - We will use the officient ADAM optimization algorithm."
   ]
  },
  {
   "cell_type": "code",
   "execution_count": 4,
   "metadata": {},
   "outputs": [],
   "source": [
    "def baseline_model(optimizer='adam'):\n",
    "    # create model\n",
    "    model = Sequential()\n",
    "    model.add(Dense(7, input_dim=7, kernel_initializer='normal', activation='relu'))\n",
    "    model.add(Dense(6, kernel_initializer='normal', activation='relu'))\n",
    "    model.add(Dense(1, activation='linear',kernel_regularizer = 'l2',  kernel_initializer='normal'))\n",
    "    model.compile(loss='mse', optimizer=optimizer, metrics=['mse', 'mae', 'mape', 'cosine'])\n",
    "    return model"
   ]
  },
  {
   "cell_type": "markdown",
   "metadata": {},
   "source": [
    "- We will pass baseline_model function to the KerasRegressor class by the build_fn argument. We will also pass in additional arguments of nb_epoch=5 and batch_size=10. These are automatically bundled up and passed on to the fit() function.\n",
    "- We will use 10-fold cross validation to evaluate the model."
   ]
  },
  {
   "cell_type": "code",
   "execution_count": 22,
   "metadata": {},
   "outputs": [],
   "source": [
    "def train_data_nn(x_train, y_train):\n",
    "    \n",
    "    # Using the Keras wrapper object KerasRegressor\n",
    "    estimator = KerasRegressor(build_fn=baseline_model, epochs=5, batch_size=10, verbose=1)\n",
    "    \n",
    "    # Cross validation\n",
    "    kfold = KFold(n_splits=10, random_state=42)\n",
    "    results = cross_val_score(estimator, x_train, y_train, cv=kfold , scoring='r2')  \n",
    "    \n",
    "    #print(\"Standardized: %.2f (%.2f) MSE\" % (results.mean(), results.std()))\n",
    "    return estimator , results"
   ]
  },
  {
   "cell_type": "code",
   "execution_count": 23,
   "metadata": {
    "scrolled": true
   },
   "outputs": [
    {
     "name": "stdout",
     "output_type": "stream",
     "text": [
      "Epoch 1/5\n",
      "630/630 [==============================] - 1s 2ms/step - loss: 0.0072 - mean_squared_error: 0.0071 - mean_absolute_error: 0.0681 - mean_absolute_percentage_error: 59.9636 - cosine_proximity: -0.9683\n",
      "Epoch 2/5\n",
      "630/630 [==============================] - 0s 171us/step - loss: 0.0021 - mean_squared_error: 0.0018 - mean_absolute_error: 0.0321 - mean_absolute_percentage_error: 32.2989 - cosine_proximity: -1.0000\n",
      "Epoch 3/5\n",
      "630/630 [==============================] - 0s 174us/step - loss: 0.0017 - mean_squared_error: 0.0015 - mean_absolute_error: 0.0291 - mean_absolute_percentage_error: 30.1964 - cosine_proximity: -1.0000\n",
      "Epoch 4/5\n",
      "630/630 [==============================] - 0s 211us/step - loss: 0.0015 - mean_squared_error: 0.0012 - mean_absolute_error: 0.0259 - mean_absolute_percentage_error: 26.9064 - cosine_proximity: -1.0000\n",
      "Epoch 5/5\n",
      "630/630 [==============================] - 0s 206us/step - loss: 0.0012 - mean_squared_error: 9.7569e-04 - mean_absolute_error: 0.0226 - mean_absolute_percentage_error: 23.9542 - cosine_proximity: -1.0000\n",
      "70/70 [==============================] - 0s 3ms/step\n",
      "Epoch 1/5\n",
      "630/630 [==============================] - 1s 2ms/step - loss: 0.0076 - mean_squared_error: 0.0075 - mean_absolute_error: 0.0704 - mean_absolute_percentage_error: 60.6806 - cosine_proximity: -0.9778\n",
      "Epoch 2/5\n",
      "630/630 [==============================] - 0s 152us/step - loss: 0.0022 - mean_squared_error: 0.0019 - mean_absolute_error: 0.0329 - mean_absolute_percentage_error: 32.2774 - cosine_proximity: -1.0000\n",
      "Epoch 3/5\n",
      "630/630 [==============================] - 0s 174us/step - loss: 0.0018 - mean_squared_error: 0.0015 - mean_absolute_error: 0.0294 - mean_absolute_percentage_error: 30.3125 - cosine_proximity: -1.0000\n",
      "Epoch 4/5\n",
      "630/630 [==============================] - 0s 241us/step - loss: 0.0015 - mean_squared_error: 0.0012 - mean_absolute_error: 0.0255 - mean_absolute_percentage_error: 25.9817 - cosine_proximity: -1.0000\n",
      "Epoch 5/5\n",
      "630/630 [==============================] - 0s 180us/step - loss: 0.0012 - mean_squared_error: 0.0010 - mean_absolute_error: 0.0224 - mean_absolute_percentage_error: 22.8843 - cosine_proximity: -1.0000\n",
      "70/70 [==============================] - 0s 4ms/step\n",
      "Epoch 1/5\n",
      "630/630 [==============================] - 1s 2ms/step - loss: 0.0071 - mean_squared_error: 0.0068 - mean_absolute_error: 0.0663 - mean_absolute_percentage_error: 57.3193 - cosine_proximity: -0.9968\n",
      "Epoch 2/5\n",
      "630/630 [==============================] - 0s 136us/step - loss: 0.0022 - mean_squared_error: 0.0018 - mean_absolute_error: 0.0321 - mean_absolute_percentage_error: 32.5094 - cosine_proximity: -1.0000\n",
      "Epoch 3/5\n",
      "630/630 [==============================] - 0s 131us/step - loss: 0.0018 - mean_squared_error: 0.0015 - mean_absolute_error: 0.0288 - mean_absolute_percentage_error: 29.0892 - cosine_proximity: -1.0000\n",
      "Epoch 4/5\n",
      "630/630 [==============================] - 0s 122us/step - loss: 0.0015 - mean_squared_error: 0.0013 - mean_absolute_error: 0.0261 - mean_absolute_percentage_error: 26.8976 - cosine_proximity: -1.0000\n",
      "Epoch 5/5\n",
      "630/630 [==============================] - 0s 119us/step - loss: 0.0013 - mean_squared_error: 0.0011 - mean_absolute_error: 0.0235 - mean_absolute_percentage_error: 24.3267 - cosine_proximity: -1.0000\n",
      "70/70 [==============================] - 0s 4ms/step\n",
      "Epoch 1/5\n",
      "630/630 [==============================] - 1s 2ms/step - loss: 0.0068 - mean_squared_error: 0.0065 - mean_absolute_error: 0.0637 - mean_absolute_percentage_error: 55.2295 - cosine_proximity: -1.0000\n",
      "Epoch 2/5\n",
      "630/630 [==============================] - 0s 158us/step - loss: 0.0022 - mean_squared_error: 0.0018 - mean_absolute_error: 0.0319 - mean_absolute_percentage_error: 32.3740 - cosine_proximity: -1.0000\n",
      "Epoch 3/5\n",
      "630/630 [==============================] - 0s 163us/step - loss: 0.0019 - mean_squared_error: 0.0016 - mean_absolute_error: 0.0300 - mean_absolute_percentage_error: 30.7453 - cosine_proximity: -1.0000\n",
      "Epoch 4/5\n",
      "630/630 [==============================] - 0s 171us/step - loss: 0.0017 - mean_squared_error: 0.0015 - mean_absolute_error: 0.0285 - mean_absolute_percentage_error: 28.4044 - cosine_proximity: -1.0000\n",
      "Epoch 5/5\n",
      "630/630 [==============================] - 0s 165us/step - loss: 0.0016 - mean_squared_error: 0.0014 - mean_absolute_error: 0.0276 - mean_absolute_percentage_error: 28.4623 - cosine_proximity: -1.0000\n",
      "70/70 [==============================] - 0s 4ms/step\n",
      "Epoch 1/5\n",
      "630/630 [==============================] - 1s 2ms/step - loss: 0.0083 - mean_squared_error: 0.0082 - mean_absolute_error: 0.0768 - mean_absolute_percentage_error: 68.5173 - cosine_proximity: -0.9302\n",
      "Epoch 2/5\n",
      "630/630 [==============================] - 0s 160us/step - loss: 0.0031 - mean_squared_error: 0.0031 - mean_absolute_error: 0.0389 - mean_absolute_percentage_error: 30.9136 - cosine_proximity: -1.0000\n",
      "Epoch 3/5\n",
      "630/630 [==============================] - 0s 168us/step - loss: 0.0022 - mean_squared_error: 0.0022 - mean_absolute_error: 0.0344 - mean_absolute_percentage_error: 32.9130 - cosine_proximity: -1.0000\n",
      "Epoch 4/5\n",
      "630/630 [==============================] - 0s 166us/step - loss: 0.0021 - mean_squared_error: 0.0021 - mean_absolute_error: 0.0351 - mean_absolute_percentage_error: 35.9823 - cosine_proximity: -1.0000\n",
      "Epoch 5/5\n",
      "630/630 [==============================] - 0s 139us/step - loss: 0.0021 - mean_squared_error: 0.0021 - mean_absolute_error: 0.0351 - mean_absolute_percentage_error: 36.3549 - cosine_proximity: -1.0000\n",
      "70/70 [==============================] - 0s 4ms/step\n",
      "Epoch 1/5\n",
      "630/630 [==============================] - 1s 2ms/step - loss: 0.0072 - mean_squared_error: 0.0069 - mean_absolute_error: 0.0668 - mean_absolute_percentage_error: 58.1361 - cosine_proximity: -0.9714\n",
      "Epoch 2/5\n",
      "630/630 [==============================] - 0s 133us/step - loss: 0.0022 - mean_squared_error: 0.0018 - mean_absolute_error: 0.0325 - mean_absolute_percentage_error: 33.3151 - cosine_proximity: -1.0000\n",
      "Epoch 3/5\n",
      "630/630 [==============================] - 0s 133us/step - loss: 0.0016 - mean_squared_error: 0.0013 - mean_absolute_error: 0.0271 - mean_absolute_percentage_error: 27.8444 - cosine_proximity: -1.0000\n",
      "Epoch 4/5\n",
      "630/630 [==============================] - ETA: 0s - loss: 0.0015 - mean_squared_error: 0.0012 - mean_absolute_error: 0.0249 - mean_absolute_percentage_error: 25.7611 - cosine_proximity: -1.0000       - 0s 135us/step - loss: 0.0013 - mean_squared_error: 0.0011 - mean_absolute_error: 0.0238 - mean_absolute_percentage_error: 24.6088 - cosine_proximity: -1.0000\n",
      "Epoch 5/5\n",
      "630/630 [==============================] - 0s 131us/step - loss: 0.0012 - mean_squared_error: 9.3667e-04 - mean_absolute_error: 0.0214 - mean_absolute_percentage_error: 22.4671 - cosine_proximity: -1.0000\n",
      "70/70 [==============================] - 0s 4ms/step\n",
      "Epoch 1/5\n",
      "630/630 [==============================] - 1s 2ms/step - loss: 0.0075 - mean_squared_error: 0.0072 - mean_absolute_error: 0.0690 - mean_absolute_percentage_error: 60.0850 - cosine_proximity: -0.9651\n",
      "Epoch 2/5\n",
      "630/630 [==============================] - 0s 136us/step - loss: 0.0025 - mean_squared_error: 0.0020 - mean_absolute_error: 0.0331 - mean_absolute_percentage_error: 32.1785 - cosine_proximity: -1.0000\n",
      "Epoch 3/5\n",
      "630/630 [==============================] - 0s 130us/step - loss: 0.0020 - mean_squared_error: 0.0016 - mean_absolute_error: 0.0306 - mean_absolute_percentage_error: 30.8630 - cosine_proximity: -1.0000\n",
      "Epoch 4/5\n",
      "630/630 [==============================] - 0s 136us/step - loss: 0.0018 - mean_squared_error: 0.0015 - mean_absolute_error: 0.0296 - mean_absolute_percentage_error: 31.1236 - cosine_proximity: -1.0000\n",
      "Epoch 5/5\n",
      "630/630 [==============================] - 0s 133us/step - loss: 0.0016 - mean_squared_error: 0.0014 - mean_absolute_error: 0.0281 - mean_absolute_percentage_error: 28.5837 - cosine_proximity: -1.0000\n",
      "70/70 [==============================] - 0s 4ms/step\n",
      "Epoch 1/5\n",
      "630/630 [==============================] - 1s 2ms/step - loss: 0.0075 - mean_squared_error: 0.0074 - mean_absolute_error: 0.0698 - mean_absolute_percentage_error: 60.4660 - cosine_proximity: -0.9900\n",
      "Epoch 2/5\n",
      "630/630 [==============================] - 0s 135us/step - loss: 0.0022 - mean_squared_error: 0.0020 - mean_absolute_error: 0.0323 - mean_absolute_percentage_error: 30.8277 - cosine_proximity: -1.0000\n",
      "Epoch 3/5\n",
      "630/630 [==============================] - 0s 141us/step - loss: 0.0019 - mean_squared_error: 0.0016 - mean_absolute_error: 0.0304 - mean_absolute_percentage_error: 31.3183 - cosine_proximity: -1.0000\n",
      "Epoch 4/5\n",
      "630/630 [==============================] - 0s 135us/step - loss: 0.0018 - mean_squared_error: 0.0016 - mean_absolute_error: 0.0293 - mean_absolute_percentage_error: 29.7569 - cosine_proximity: -1.0000\n",
      "Epoch 5/5\n",
      "630/630 [==============================] - 0s 127us/step - loss: 0.0017 - mean_squared_error: 0.0015 - mean_absolute_error: 0.0287 - mean_absolute_percentage_error: 28.9433 - cosine_proximity: -1.0000\n",
      "70/70 [==============================] - 0s 4ms/step\n",
      "Epoch 1/5\n",
      "630/630 [==============================] - 1s 2ms/step - loss: 0.0070 - mean_squared_error: 0.0067 - mean_absolute_error: 0.0654 - mean_absolute_percentage_error: 56.6607 - cosine_proximity: -0.9968\n",
      "Epoch 2/5\n",
      "630/630 [==============================] - 0s 176us/step - loss: 0.0022 - mean_squared_error: 0.0018 - mean_absolute_error: 0.0324 - mean_absolute_percentage_error: 32.2224 - cosine_proximity: -1.0000\n",
      "Epoch 3/5\n",
      "630/630 [==============================] - 0s 152us/step - loss: 0.0017 - mean_squared_error: 0.0014 - mean_absolute_error: 0.0279 - mean_absolute_percentage_error: 28.5957 - cosine_proximity: -1.0000\n",
      "Epoch 4/5\n",
      "630/630 [==============================] - 0s 142us/step - loss: 0.0014 - mean_squared_error: 0.0012 - mean_absolute_error: 0.0251 - mean_absolute_percentage_error: 26.0177 - cosine_proximity: -1.0000\n",
      "Epoch 5/5\n",
      "630/630 [==============================] - 0s 133us/step - loss: 0.0012 - mean_squared_error: 0.0010 - mean_absolute_error: 0.0221 - mean_absolute_percentage_error: 22.6587 - cosine_proximity: -1.0000\n",
      "70/70 [==============================] - 0s 4ms/step\n",
      "Epoch 1/5\n",
      "630/630 [==============================] - 1s 2ms/step - loss: 0.0072 - mean_squared_error: 0.0069 - mean_absolute_error: 0.0658 - mean_absolute_percentage_error: 56.9870 - cosine_proximity: -0.9937\n",
      "Epoch 2/5\n",
      "630/630 [==============================] - 0s 135us/step - loss: 0.0022 - mean_squared_error: 0.0017 - mean_absolute_error: 0.0310 - mean_absolute_percentage_error: 30.9719 - cosine_proximity: -1.0000\n",
      "Epoch 3/5\n",
      "630/630 [==============================] - 0s 149us/step - loss: 0.0017 - mean_squared_error: 0.0013 - mean_absolute_error: 0.0268 - mean_absolute_percentage_error: 27.0658 - cosine_proximity: -1.0000\n",
      "Epoch 4/5\n",
      "630/630 [==============================] - 0s 135us/step - loss: 0.0013 - mean_squared_error: 0.0010 - mean_absolute_error: 0.0231 - mean_absolute_percentage_error: 23.7597 - cosine_proximity: -1.0000\n",
      "Epoch 5/5\n",
      "630/630 [==============================] - 0s 133us/step - loss: 0.0011 - mean_squared_error: 7.8793e-04 - mean_absolute_error: 0.0197 - mean_absolute_percentage_error: 20.6040 - cosine_proximity: -1.0000\n",
      "70/70 [==============================] - 0s 5ms/step\n"
     ]
    }
   ],
   "source": [
    "model , results= train_data_nn(x_train, y_train)"
   ]
  },
  {
   "cell_type": "code",
   "execution_count": 24,
   "metadata": {},
   "outputs": [
    {
     "name": "stdout",
     "output_type": "stream",
     "text": [
      "Train on 630 samples, validate on 70 samples\n",
      "Epoch 1/5\n",
      "630/630 [==============================] - 2s 3ms/step - loss: 0.0075 - mean_squared_error: 0.0073 - mean_absolute_error: 0.0688 - mean_absolute_percentage_error: 59.4825 - cosine_proximity: -0.9793 - val_loss: 0.0017 - val_mean_squared_error: 0.0014 - val_mean_absolute_error: 0.0291 - val_mean_absolute_percentage_error: 29.5970 - val_cosine_proximity: -1.0000\n",
      "Epoch 2/5\n",
      "630/630 [==============================] - 0s 163us/step - loss: 0.0023 - mean_squared_error: 0.0020 - mean_absolute_error: 0.0333 - mean_absolute_percentage_error: 32.7852 - cosine_proximity: -1.0000 - val_loss: 0.0013 - val_mean_squared_error: 9.9803e-04 - val_mean_absolute_error: 0.0260 - val_mean_absolute_percentage_error: 32.4063 - val_cosine_proximity: -1.0000\n",
      "Epoch 3/5\n",
      "630/630 [==============================] - 0s 150us/step - loss: 0.0019 - mean_squared_error: 0.0017 - mean_absolute_error: 0.0302 - mean_absolute_percentage_error: 30.6580 - cosine_proximity: -1.0000 - val_loss: 0.0010 - val_mean_squared_error: 7.8979e-04 - val_mean_absolute_error: 0.0227 - val_mean_absolute_percentage_error: 28.6414 - val_cosine_proximity: -1.0000\n",
      "Epoch 4/5\n",
      "630/630 [==============================] - 0s 157us/step - loss: 0.0017 - mean_squared_error: 0.0015 - mean_absolute_error: 0.0278 - mean_absolute_percentage_error: 28.1886 - cosine_proximity: -1.0000 - val_loss: 8.8829e-04 - val_mean_squared_error: 6.8830e-04 - val_mean_absolute_error: 0.0213 - val_mean_absolute_percentage_error: 26.8306 - val_cosine_proximity: -1.0000\n",
      "Epoch 5/5\n",
      "630/630 [==============================] - 0s 155us/step - loss: 0.0015 - mean_squared_error: 0.0013 - mean_absolute_error: 0.0257 - mean_absolute_percentage_error: 25.9987 - cosine_proximity: -1.0000 - val_loss: 7.8415e-04 - val_mean_squared_error: 6.0049e-04 - val_mean_absolute_error: 0.0197 - val_mean_absolute_percentage_error: 24.7509 - val_cosine_proximity: -1.0000\n"
     ]
    }
   ],
   "source": [
    "# Training our model on our train data and validate it \n",
    "history = model.fit(x_train, y_train, validation_split=0.1, epochs=5, batch_size=10,verbose=1)\n"
   ]
  },
  {
   "cell_type": "markdown",
   "metadata": {},
   "source": [
    "# Evaluating the model"
   ]
  },
  {
   "cell_type": "code",
   "execution_count": 33,
   "metadata": {},
   "outputs": [],
   "source": [
    "def visualize_learning_curve(history ,results):\n",
    "\n",
    "    # Evaluate the model by cross validation \n",
    "    plt.figure(figsize=(10.7,5.27))\n",
    "    plt.plot(results)\n",
    "    plt.title('Curve of R2')\n",
    "    plt.show()\n",
    "    \n",
    "    # summarize history for MRSE\n",
    "    plt.figure(figsize=(10.7,5.27))\n",
    "    plt.plot(history.history['mean_squared_error'])\n",
    "    plt.title('MRSE')\n",
    "    plt.ylabel('MRSE')\n",
    "    plt.xlabel('epoch')\n",
    "    plt.legend(['train', 'test'], loc='upper left')\n",
    "    plt.show()"
   ]
  },
  {
   "cell_type": "code",
   "execution_count": 34,
   "metadata": {},
   "outputs": [
    {
     "data": {
      "image/png": "[encoded data removed]",
      "text/plain": [
       "<Figure size 770.4x379.44 with 1 Axes>"
      ]
     },
     "metadata": {
      "needs_background": "light"
     },
     "output_type": "display_data"
    },
    {
     "data": {
      "image/png": "[encoded data removed]",
      "text/plain": [
       "<Figure size 770.4x379.44 with 1 Axes>"
      ]
     },
     "metadata": {
      "needs_background": "light"
     },
     "output_type": "display_data"
    },
    {
     "name": "stdout",
     "output_type": "stream",
     "text": [
      "300/300 [==============================] - 0s 116us/step\n",
      " RMSE :  0.03394695995540962\n"
     ]
    }
   ],
   "source": [
    "visualize_learning_curve(history, results)\n",
    "\n",
    "# Print RSME\n",
    "rmse = math.sqrt(mean_squared_error(y_test, model.predict(x_test)))\n",
    "print(' RMSE : ', rmse)\n"
   ]
  },
  {
   "cell_type": "markdown",
   "metadata": {},
   "source": [
    "# Saving the model"
   ]
  },
  {
   "cell_type": "code",
   "execution_count": 29,
   "metadata": {},
   "outputs": [
    {
     "name": "stdout",
     "output_type": "stream",
     "text": [
      "Print your path to save your model :C:/Users/Dell 7470/Desktop/test_xcelerit\n"
     ]
    }
   ],
   "source": [
    "import pickle\n",
    "import os\n",
    "\n",
    "path=input('Print your path to save your model :')\n",
    "pickle.dump(model, open(os.path.join(path, 'NN.pickle'), 'wb'), protocol=4)\n",
    "pickle.dump(scaler, open(os.path.join(path, 'NN_scaler.pickle'), 'wb'), protocol=4)\n"
   ]
  }
 ],
 "metadata": {
  "kernelspec": {
   "display_name": "Python 3",
   "language": "python",
   "name": "python3"
  },
  "language_info": {
   "codemirror_mode": {
    "name": "ipython",
    "version": 3
   },
   "file_extension": ".py",
   "mimetype": "text/x-python",
   "name": "python",
   "nbconvert_exporter": "python",
   "pygments_lexer": "ipython3",
   "version": "3.6.8"
  }
 },
 "nbformat": 4,
 "nbformat_minor": 2
}
