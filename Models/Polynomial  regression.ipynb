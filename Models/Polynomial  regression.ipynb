{
 "cells": [
  {
   "cell_type": "markdown",
   "metadata": {},
   "source": [
    "# Importation and data preparation "
   ]
  },
  {
   "cell_type": "markdown",
   "metadata": {},
   "source": [
    "* Importation  "
   ]
  },
  {
   "cell_type": "code",
   "execution_count": 1,
   "metadata": {},
   "outputs": [],
   "source": [
    "import pandas as pd\n",
    "import numpy as np\n",
    "from sklearn.model_selection import GridSearchCV\n",
    "from sklearn.pipeline import make_pipeline\n",
    "from sklearn.linear_model import LinearRegression\n",
    "from sklearn.metrics import mean_squared_error, r2_score\n",
    "from sklearn.preprocessing import PolynomialFeatures\n",
    "from sklearn.model_selection import train_test_split\n",
    "import matplotlib.pyplot as plt"
   ]
  },
  {
   "cell_type": "markdown",
   "metadata": {},
   "source": [
    "STEP 1 : Importing and Splitting data \n",
    "\n",
    "- We will split the data into training and testing sets. We will train the model with 70% of the samples and test with the remaining 20% "
   ]
  },
  {
   "cell_type": "code",
   "execution_count": 2,
   "metadata": {},
   "outputs": [],
   "source": [
    "dff=pd.read_csv(\"C:/Users/Dell 7470/Desktop/test_xcelerit/data_xcelerit.csv\")\n",
    "x = dff.drop('vola',axis=1)\n",
    "y = dff.vola\n",
    "x_train, x_test, y_train, y_test = train_test_split(x, y, test_size=0.3)"
   ]
  },
  {
   "cell_type": "markdown",
   "metadata": {},
   "source": [
    "- By looking to the correlation matrix and data plot ( in dataset.ipnyb ) we notice that even {nu} ( the most corelate feature with {vola} ) doesn’t look to be following exactly a linear line. So we will apply Polynomiale regression model to our dataset\n"
   ]
  },
  {
   "cell_type": "markdown",
   "metadata": {},
   "source": [
    "# Building and training the first model "
   ]
  },
  {
   "cell_type": "markdown",
   "metadata": {},
   "source": [
    "- To convert the original features into their higher order terms we will use the PolynomialFeatures class provided by scikit-learn. Next, we train the model using Linear Regression\n",
    "- We will loop on 10  degrees in order to benchmarks between different degrees"
   ]
  },
  {
   "cell_type": "code",
   "execution_count": 11,
   "metadata": {},
   "outputs": [],
   "source": [
    "degrees = np.arange(1, 10)\n",
    "def model(x_train, x_test, y_train, y_test):\n",
    "\n",
    "    rmses=[]\n",
    "    r2=[]\n",
    "    for deg in degrees:\n",
    "    \n",
    "        # Train features\n",
    "        \n",
    "        poly_features = PolynomialFeatures(degree=deg, include_bias=False)\n",
    "        x_poly_train = poly_features.fit_transform(x_train)\n",
    "\n",
    "        # Linear regression\n",
    "        \n",
    "        poly_reg = LinearRegression()\n",
    "        poly_reg.fit(x_poly_train, y_train)\n",
    "        \n",
    "        # Compare with test data\n",
    "        \n",
    "        x_poly_test = poly_features.fit_transform(x_test)\n",
    "        print(x_poly_test.shape)\n",
    "        poly_predict = poly_reg.predict(x_poly_test)\n",
    "        \n",
    "        \n",
    "        # metrics \n",
    "        \n",
    "        poly_mse = mean_squared_error(y_test, poly_predict) # Mean-square deviation\n",
    "        poly_r2=r2_score(y_test,poly_predict)               #R2\n",
    "        poly_rmse = np.sqrt(poly_mse)                       # Root-mean-square deviation\n",
    "        \n",
    "        # arrays of differents values of r2 and RMSES \n",
    "        r2.append(poly_r2)\n",
    "        rmses.append(poly_rmse)\n",
    "        \n",
    "        # to return the best model and the best degree \n",
    "        if poly_rmse == min(rmses):\n",
    "            lr_model=poly_reg\n",
    "            index=deg\n",
    "    \n",
    "    return index,lr_model,rmses,r2"
   ]
  },
  {
   "cell_type": "code",
   "execution_count": 12,
   "metadata": {},
   "outputs": [
    {
     "name": "stdout",
     "output_type": "stream",
     "text": [
      "(300, 7)\n",
      "(300, 35)\n",
      "(300, 119)\n",
      "(300, 329)\n",
      "(300, 791)\n",
      "(300, 1715)\n",
      "(300, 3431)\n",
      "(300, 6434)\n",
      "(300, 11439)\n"
     ]
    }
   ],
   "source": [
    "(degree,best_model,rmses,r2)=model(x_train, x_test, y_train, y_test)"
   ]
  },
  {
   "cell_type": "markdown",
   "metadata": {},
   "source": [
    "#  Evaluating the model"
   ]
  },
  {
   "cell_type": "markdown",
   "metadata": {},
   "source": [
    "- We will plot differents walues of R2 and RMSE"
   ]
  },
  {
   "cell_type": "code",
   "execution_count": 5,
   "metadata": {},
   "outputs": [],
   "source": [
    "def visualization(rmses,r2):\n",
    "    # visualization of RMSE\n",
    "    fig = plt.figure(figsize=(10.7,5.27))\n",
    "    ax = fig.add_subplot(111)\n",
    "    ax.plot(degrees, rmses)\n",
    "    ax.set_yscale('log')\n",
    "    ax.set_title('Cuvre of RMSE')\n",
    "    ax.set_xlabel('Degree')\n",
    "    ax.set_ylabel('RMSE') \n",
    "    # visualization of R2\n",
    "    fig = plt.figure(figsize=(10.7,5.27))\n",
    "    ax = fig.add_subplot(111)\n",
    "    ax.plot(degrees, r2)\n",
    "    ax.set_yscale('log')\n",
    "    ax.set_title('Curve of R2')\n",
    "    ax.set_xlabel('Degree')\n",
    "    ax.set_ylabel('r2') \n",
    "    "
   ]
  },
  {
   "cell_type": "code",
   "execution_count": 6,
   "metadata": {},
   "outputs": [
    {
     "data": {
      "image/png": "[encoded data removed]",
      "text/plain": [
       "<Figure size 770.4x379.44 with 1 Axes>"
      ]
     },
     "metadata": {
      "needs_background": "light"
     },
     "output_type": "display_data"
    },
    {
     "data": {
      "image/png": "[encoded data removed]",
      "text/plain": [
       "<Figure size 770.4x379.44 with 1 Axes>"
      ]
     },
     "metadata": {
      "needs_background": "light"
     },
     "output_type": "display_data"
    }
   ],
   "source": [
    "visualization(rmses,r2)"
   ]
  },
  {
   "cell_type": "markdown",
   "metadata": {},
   "source": [
    "# Metrics  "
   ]
  },
  {
   "cell_type": "code",
   "execution_count": 7,
   "metadata": {},
   "outputs": [
    {
     "name": "stdout",
     "output_type": "stream",
     "text": [
      " the RMSE of our best model is : 0.014946522031600833\n",
      " the R2 of our best model is : 0.8902728643787263\n"
     ]
    }
   ],
   "source": [
    "print(' the RMSE of our best model is :',rmses[degree])\n",
    "print(' the R2 of our best model is :',r2[degree])"
   ]
  },
  {
   "cell_type": "markdown",
   "metadata": {},
   "source": [
    "# Saving the best model"
   ]
  },
  {
   "cell_type": "code",
   "execution_count": 8,
   "metadata": {},
   "outputs": [
    {
     "name": "stdout",
     "output_type": "stream",
     "text": [
      "Print your path to save your model :\n"
     ]
    }
   ],
   "source": [
    "import pickle\n",
    "import os\n",
    "\n",
    "path=input('Print your path to save your model :')\n",
    "pickle.dump(model, open(os.path.join(path, 'Polynomial_regression.pickle'), 'wb'), protocol=4)"
   ]
  },
  {
   "cell_type": "markdown",
   "metadata": {},
   "source": [
    "# Predict new instance"
   ]
  },
  {
   "cell_type": "code",
   "execution_count": 21,
   "metadata": {},
   "outputs": [],
   "source": [
    "if __name__=='__main__':\n",
    "        modelfile_mlp = 'C:/Users/Dell 7470/Desktop/test_xcelerit/Polynomial_regression.pickle'\n",
    "        mlp = pickle.load(open(modelfile_mlp, 'rb'))\n",
    "                               "
   ]
  },
  {
   "cell_type": "code",
   "execution_count": 16,
   "metadata": {},
   "outputs": [
    {
     "ename": "ValueError",
     "evalue": "X shape does not match training shape",
     "output_type": "error",
     "traceback": [
      "\u001b[1;31m---------------------------------------------------------------------------\u001b[0m",
      "\u001b[1;31mValueError\u001b[0m                                Traceback (most recent call last)",
      "\u001b[1;32m<ipython-input-16-82f6bf9c40c6>\u001b[0m in \u001b[0;36m<module>\u001b[1;34m\u001b[0m\n\u001b[0;32m      9\u001b[0m     \u001b[0mvola\u001b[0m\u001b[1;33m=\u001b[0m\u001b[0mbest_model\u001b[0m\u001b[1;33m.\u001b[0m\u001b[0mpredict\u001b[0m\u001b[1;33m(\u001b[0m\u001b[0mpoly_data\u001b[0m\u001b[1;33m)\u001b[0m\u001b[1;33m\u001b[0m\u001b[1;33m\u001b[0m\u001b[0m\n\u001b[0;32m     10\u001b[0m     \u001b[1;32mreturn\u001b[0m \u001b[0mvola\u001b[0m\u001b[1;33m\u001b[0m\u001b[1;33m\u001b[0m\u001b[0m\n\u001b[1;32m---> 11\u001b[1;33m \u001b[0mprict_vola\u001b[0m\u001b[1;33m(\u001b[0m\u001b[1;33m[\u001b[0m\u001b[1;36m0.305983\u001b[0m\u001b[1;33m,\u001b[0m\u001b[1;36m0.552548\u001b[0m\u001b[1;33m,\u001b[0m\u001b[1;36m0.036924\u001b[0m\u001b[1;33m,\u001b[0m\u001b[1;36m0.035264\u001b[0m\u001b[1;33m,\u001b[0m\u001b[1;36m3.500000\u001b[0m\u001b[1;33m,\u001b[0m\u001b[1;36m0.006076\u001b[0m\u001b[1;33m,\u001b[0m\u001b[1;36m0.312358\u001b[0m\u001b[1;33m]\u001b[0m\u001b[1;33m)\u001b[0m\u001b[1;33m\u001b[0m\u001b[1;33m\u001b[0m\u001b[0m\n\u001b[0m",
      "\u001b[1;32m<ipython-input-16-82f6bf9c40c6>\u001b[0m in \u001b[0;36mprict_vola\u001b[1;34m(lst)\u001b[0m\n\u001b[0;32m      5\u001b[0m \u001b[1;32mdef\u001b[0m \u001b[0mprict_vola\u001b[0m\u001b[1;33m(\u001b[0m\u001b[0mlst\u001b[0m\u001b[1;33m)\u001b[0m\u001b[1;33m:\u001b[0m\u001b[1;33m\u001b[0m\u001b[1;33m\u001b[0m\u001b[0m\n\u001b[0;32m      6\u001b[0m     \u001b[0mdf\u001b[0m \u001b[1;33m=\u001b[0m \u001b[0mpd\u001b[0m\u001b[1;33m.\u001b[0m\u001b[0mDataFrame\u001b[0m\u001b[1;33m(\u001b[0m\u001b[1;33m[\u001b[0m\u001b[0mlst\u001b[0m\u001b[1;33m]\u001b[0m\u001b[1;33m)\u001b[0m\u001b[1;33m\u001b[0m\u001b[1;33m\u001b[0m\u001b[0m\n\u001b[1;32m----> 7\u001b[1;33m     \u001b[0mpoly_data\u001b[0m\u001b[1;33m=\u001b[0m\u001b[0mpolynomial_features\u001b[0m\u001b[1;33m.\u001b[0m\u001b[0mtransform\u001b[0m\u001b[1;33m(\u001b[0m\u001b[1;33m[\u001b[0m\u001b[0mlst\u001b[0m\u001b[1;33m]\u001b[0m\u001b[1;33m)\u001b[0m\u001b[1;33m\u001b[0m\u001b[1;33m\u001b[0m\u001b[0m\n\u001b[0m\u001b[0;32m      8\u001b[0m     \u001b[0mprint\u001b[0m\u001b[1;33m(\u001b[0m\u001b[0mpoly_data\u001b[0m\u001b[1;33m)\u001b[0m\u001b[1;33m\u001b[0m\u001b[1;33m\u001b[0m\u001b[0m\n\u001b[0;32m      9\u001b[0m     \u001b[0mvola\u001b[0m\u001b[1;33m=\u001b[0m\u001b[0mbest_model\u001b[0m\u001b[1;33m.\u001b[0m\u001b[0mpredict\u001b[0m\u001b[1;33m(\u001b[0m\u001b[0mpoly_data\u001b[0m\u001b[1;33m)\u001b[0m\u001b[1;33m\u001b[0m\u001b[1;33m\u001b[0m\u001b[0m\n",
      "\u001b[1;32m~\\Anaconda1\\lib\\site-packages\\sklearn\\preprocessing\\data.py\u001b[0m in \u001b[0;36mtransform\u001b[1;34m(self, X)\u001b[0m\n\u001b[0;32m   1467\u001b[0m \u001b[1;33m\u001b[0m\u001b[0m\n\u001b[0;32m   1468\u001b[0m         \u001b[1;32mif\u001b[0m \u001b[0mn_features\u001b[0m \u001b[1;33m!=\u001b[0m \u001b[0mself\u001b[0m\u001b[1;33m.\u001b[0m\u001b[0mn_input_features_\u001b[0m\u001b[1;33m:\u001b[0m\u001b[1;33m\u001b[0m\u001b[1;33m\u001b[0m\u001b[0m\n\u001b[1;32m-> 1469\u001b[1;33m             \u001b[1;32mraise\u001b[0m \u001b[0mValueError\u001b[0m\u001b[1;33m(\u001b[0m\u001b[1;34m\"X shape does not match training shape\"\u001b[0m\u001b[1;33m)\u001b[0m\u001b[1;33m\u001b[0m\u001b[1;33m\u001b[0m\u001b[0m\n\u001b[0m\u001b[0;32m   1470\u001b[0m \u001b[1;33m\u001b[0m\u001b[0m\n\u001b[0;32m   1471\u001b[0m         combinations = self._combinations(n_features, self.degree,\n",
      "\u001b[1;31mValueError\u001b[0m: X shape does not match training shape"
     ]
    }
   ],
   "source": [
    "#using it in interface \n",
    "polynomial_features= PolynomialFeatures(degree=3)\n",
    "data_poly = polynomial_features.fit_transform(dff)\n",
    "\n",
    "def prict_vola(lst):\n",
    "    df = pd.DataFrame([lst]) \n",
    "    poly_data=polynomial_features.fit_transform(df)\n",
    "    print(poly_data)\n",
    "    vola=best_model.predict(poly_data)\n",
    "    return vola\n",
    "prict_vola([0.305983,0.552548,0.036924,0.035264,3.500000,0.006076,0.312358])"
   ]
  },
  {
   "cell_type": "code",
   "execution_count": null,
   "metadata": {},
   "outputs": [],
   "source": []
  },
  {
   "cell_type": "code",
   "execution_count": null,
   "metadata": {},
   "outputs": [],
   "source": []
  }
 ],
 "metadata": {
  "kernelspec": {
   "display_name": "Python 3",
   "language": "python",
   "name": "python3"
  },
  "language_info": {
   "codemirror_mode": {
    "name": "ipython",
    "version": 3
   },
   "file_extension": ".py",
   "mimetype": "text/x-python",
   "name": "python",
   "nbconvert_exporter": "python",
   "pygments_lexer": "ipython3",
   "version": "3.6.8"
  }
 },
 "nbformat": 4,
 "nbformat_minor": 2
}
